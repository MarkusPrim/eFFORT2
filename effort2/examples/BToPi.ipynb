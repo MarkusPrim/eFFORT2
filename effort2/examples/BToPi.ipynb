{
 "cells": [
  {
   "cell_type": "code",
   "execution_count": 1,
   "id": "cc1c1cdb-72ec-41d0-a349-cddafb50faf9",
   "metadata": {},
   "outputs": [],
   "source": [
    "%matplotlib inline"
   ]
  },
  {
   "cell_type": "code",
   "execution_count": 2,
   "id": "5bff42e9-5492-444c-877c-1d4b9c2adc7b",
   "metadata": {},
   "outputs": [],
   "source": [
    "import matplotlib.pyplot as plt\n",
    "import numpy as np\n",
    "from uncertainties import correlated_values\n",
    "import uncertainties.unumpy as unp"
   ]
  },
  {
   "cell_type": "markdown",
   "id": "2147d450-a68d-4a0f-baa8-4896a1a7e3ae",
   "metadata": {},
   "source": [
    "eFFORT2 is a python package which implements rates and form factors"
   ]
  },
  {
   "cell_type": "code",
   "execution_count": 3,
   "id": "bf24e2d6-6c6c-4239-bd53-464e8e9844d1",
   "metadata": {},
   "outputs": [],
   "source": [
    "from effort2.rates.BtoP_MassEffects import BtoP\n",
    "from effort2.formfactors.formFactorBtoU import BToPiBCL"
   ]
  },
  {
   "cell_type": "markdown",
   "id": "1892dc5f-61d8-4586-a41c-4584ef052b84",
   "metadata": {},
   "source": [
    "First let us initialize the form factor parametrization called BCL (reference needed).\n",
    "We define the masses of the particles, we use the zero mass approximation, which is good for electrons and muons. This suppresses the Scalar form factor Hscalar (see below)"
   ]
  },
  {
   "cell_type": "code",
   "execution_count": 4,
   "id": "73c50e7f-7177-434e-b482-2bd518c45e8c",
   "metadata": {},
   "outputs": [],
   "source": [
    "FF = BToPiBCL(\n",
    "    m_B=5.27963,\n",
    "    m_P=0.13957,\n",
    "    m_L=0\n",
    ")"
   ]
  },
  {
   "cell_type": "markdown",
   "id": "92af86d8-786b-4aed-b864-461516da7139",
   "metadata": {},
   "source": [
    "There are lattice QCD calculation available for the form factors. To show how everything works let us use them, but this is what we want to fit, together with Vub"
   ]
  },
  {
   "cell_type": "code",
   "execution_count": 5,
   "id": "a2296681-4d59-464f-a599-2df3e7d5d713",
   "metadata": {},
   "outputs": [],
   "source": [
    "lqcd_Bpi = np.load('/home/mapr/projects/eFFORT/eFFORT/data/Bpi_LQCDwithExp_central.npy')\n",
    "lqcd_Bpi_cov = np.load('/home/mapr/projects/eFFORT/eFFORT/data/Bpi_LQCDwithExp_covariance.npy')\n",
    "\n",
    "lqcd_Bpi_correlated = correlated_values(lqcd_Bpi, lqcd_Bpi_cov)"
   ]
  },
  {
   "cell_type": "markdown",
   "id": "47a1b281-883b-4117-8863-ee69fcd80e22",
   "metadata": {},
   "source": [
    "The coefficients for the form factors, the first four are for f0, the last 4 are for f+ (which we do not need for our use case, only relevant for the tau lepton).\n",
    "I use the uncertainties package here sometimes. Check it out, it is awesome for anything related to error propagation."
   ]
  },
  {
   "cell_type": "code",
   "execution_count": 6,
   "id": "0c600104-1c89-4277-b54e-fd75f4d80a7a",
   "metadata": {},
   "outputs": [
    {
     "data": {
      "text/plain": [
       "(0.419+/-0.013013835159250654,\n",
       " -0.495+/-0.05410791857436428,\n",
       " -0.43+/-0.13426180395926365,\n",
       " 0.22+/-0.33919425479950766,\n",
       " 0.51+/-0.020808824578408377,\n",
       " -1.7+/-0.08254132265877692,\n",
       " 1.53+/-0.1900873769459146,\n",
       " 4.52+/-0.8302078598360535)"
      ]
     },
     "execution_count": 6,
     "metadata": {},
     "output_type": "execute_result"
    }
   ],
   "source": [
    "lqcd_Bpi_correlated"
   ]
  },
  {
   "cell_type": "markdown",
   "id": "c1b55964-95df-4214-87df-49cd8fc7c0c1",
   "metadata": {},
   "source": [
    "Set the coefficients in our FF class. The implementation assumes that we have 2x4 coefficients"
   ]
  },
  {
   "cell_type": "code",
   "execution_count": 7,
   "id": "a778d60b-76bb-4722-8776-8f6566dea98e",
   "metadata": {},
   "outputs": [],
   "source": [
    "FF.coefficients = lqcd_Bpi_correlated"
   ]
  },
  {
   "cell_type": "markdown",
   "id": "6abbab90-9dae-4a51-bb9f-562f5f2553d3",
   "metadata": {},
   "source": [
    "Let us plot the two form factors over the q2 range. w and q2 are interchangeable variables. The effort implementation often works with w, but we want to use q2. \n",
    "* w: recoil against the hadronic system\n",
    "* q2: momentum transfer to the lepton system\n",
    "\n",
    "Exercise: find the equation in the literature. For example search for B->D* l nu \n",
    "\n",
    "We get some numerical warnings, sometimes they can be ignored (edge effects in the integration), but make sure everything works when you see them"
   ]
  },
  {
   "cell_type": "code",
   "execution_count": 8,
   "id": "807c7196-4390-4c5d-b5d1-372be610bc03",
   "metadata": {},
   "outputs": [
    {
     "name": "stderr",
     "output_type": "stream",
     "text": [
      "/home/mapr/projects/eFFORT2/effort2/formfactors/kinematics.py:40: RuntimeWarning: invalid value encountered in sqrt\n",
      "  return np.sqrt( ( (self.m_B**2 + self.m_M**2 - q2)/(2*self.m_B) )**2 - self.m_M**2 )\n",
      "/home/mapr/projects/eFFORT2/effort2/formfactors/formFactorBtoU.py:111: RuntimeWarning: invalid value encountered in sqrt\n",
      "  return 2 * self.m_B * self.kinematics.p(q2) / np.sqrt(q2) * self.fplus(q2)\n",
      "/home/mapr/projects/eFFORT2/effort2/formfactors/formFactorBtoU.py:115: RuntimeWarning: invalid value encountered in sqrt\n",
      "  return (self.m_B ** 2 - self.m_P ** 2) / np.sqrt(q2) * self.fzero(q2)\n"
     ]
    },
    {
     "data": {
      "text/plain": [
       "[<matplotlib.lines.Line2D at 0x7f8c3f6f2ee0>]"
      ]
     },
     "execution_count": 8,
     "metadata": {},
     "output_type": "execute_result"
    },
    {
     "data": {
      "image/png": "[encoded data removed]",
      "text/plain": [
       "<Figure size 432x288 with 1 Axes>"
      ]
     },
     "metadata": {
      "needs_background": "light"
     },
     "output_type": "display_data"
    }
   ],
   "source": [
    "q2 = np.linspace(FF.kinematics.q2(FF.kinematics.w_max), FF.kinematics.q2(FF.kinematics.w_min))\n",
    "\n",
    "plt.plot(q2, unp.nominal_values(FF.Hzero(q2)))\n",
    "plt.plot(q2, unp.nominal_values(FF.Hscalar(q2)))"
   ]
  },
  {
   "cell_type": "markdown",
   "id": "a69b7864-3669-42fa-959b-561017dad36f",
   "metadata": {},
   "source": [
    "Now let us initialize the rate class which gives the decay rate for B to Pseudoscalar (the pion is a pseudoscalar) semileptonic transitions. Initialize it with the FF and an arbitrary value for Vcb (It should be Vub, something I have to change in the implementation but for all purposes assume it reads Vub although it says Vcb)."
   ]
  },
  {
   "cell_type": "code",
   "execution_count": 9,
   "id": "83bd0c7a-9bbe-43f6-8909-3805adb44cd9",
   "metadata": {},
   "outputs": [],
   "source": [
    "Rate = BtoP(FF, Vcb=3.72e-3)"
   ]
  },
  {
   "cell_type": "markdown",
   "id": "1be14aac-29ab-4608-94f8-5bb885436d43",
   "metadata": {},
   "source": [
    "Aaand we plot the normalized rate:"
   ]
  },
  {
   "cell_type": "code",
   "execution_count": 10,
   "id": "2c2897cc-d38a-4a18-b5a3-576f95a83365",
   "metadata": {},
   "outputs": [
    {
     "name": "stderr",
     "output_type": "stream",
     "text": [
      "/home/mapr/projects/eFFORT2/effort2/formfactors/kinematics.py:40: RuntimeWarning: invalid value encountered in sqrt\n",
      "  return np.sqrt( ( (self.m_B**2 + self.m_M**2 - q2)/(2*self.m_B) )**2 - self.m_M**2 )\n",
      "/home/mapr/projects/eFFORT2/effort2/formfactors/formFactorBtoU.py:111: RuntimeWarning: invalid value encountered in sqrt\n",
      "  return 2 * self.m_B * self.kinematics.p(q2) / np.sqrt(q2) * self.fplus(q2)\n",
      "/home/mapr/projects/eFFORT2/effort2/formfactors/formFactorBtoU.py:115: RuntimeWarning: invalid value encountered in sqrt\n",
      "  return (self.m_B ** 2 - self.m_P ** 2) / np.sqrt(q2) * self.fzero(q2)\n"
     ]
    },
    {
     "data": {
      "text/plain": [
       "[<matplotlib.lines.Line2D at 0x7f8c3f61ca30>]"
      ]
     },
     "execution_count": 10,
     "metadata": {},
     "output_type": "execute_result"
    },
    {
     "data": {
      "image/png": "[encoded data removed]",
      "text/plain": [
       "<Figure size 432x288 with 1 Axes>"
      ]
     },
     "metadata": {
      "needs_background": "light"
     },
     "output_type": "display_data"
    }
   ],
   "source": [
    "plt.plot(q2, unp.nominal_values(Rate.dGamma_dq2(q2) / Rate.Gamma()))"
   ]
  },
  {
   "cell_type": "markdown",
   "id": "5610a9cc-9bec-401c-8f3f-a6626940caa8",
   "metadata": {},
   "source": [
    "There is also a function calculating the rate within a given bin:"
   ]
  },
  {
   "cell_type": "code",
   "execution_count": 11,
   "id": "594054ae-1e50-4d56-be15-597c50aec3c1",
   "metadata": {},
   "outputs": [
    {
     "data": {
      "text/plain": [
       "1.1978012884184684e-17+/-1.8767315854475056e-18"
      ]
     },
     "execution_count": 11,
     "metadata": {},
     "output_type": "execute_result"
    }
   ],
   "source": [
    "Rate.DGamma_Dq2(0, 4)"
   ]
  },
  {
   "cell_type": "code",
   "execution_count": 12,
   "id": "d734486f-c0df-469f-aa06-f4331d481c06",
   "metadata": {},
   "outputs": [
    {
     "data": {
      "text/plain": [
       "{'FF': <effort2.formfactors.formFactorBtoU.BToPiBCL at 0x7f8c42b6cd00>,\n",
       " 'Vcb': 0.00372,\n",
       " 'mB': 5.27963,\n",
       " 'mP': 0.13957,\n",
       " 'mL': 0,\n",
       " 'GF': 1.1663787e-05,\n",
       " 'eta_EW': 1.0066,\n",
       " 'BR_Dstar_decay': 1,\n",
       " 'kinematics': <effort2.formfactors.kinematics.Kinematics at 0x7f8c4177f310>,\n",
       " 'w_min': 1.00000001,\n",
       " 'w_max': 18.927131937241874}"
      ]
     },
     "execution_count": 12,
     "metadata": {},
     "output_type": "execute_result"
    }
   ],
   "source": [
    "Rate.__dict__"
   ]
  },
  {
   "cell_type": "code",
   "execution_count": null,
   "id": "d355e29c-9631-48d1-80b3-527348318977",
   "metadata": {},
   "outputs": [],
   "source": []
  }
 ],
 "metadata": {
  "kernelspec": {
   "display_name": "Python 3 (ipykernel)",
   "language": "python",
   "name": "python3"
  },
  "language_info": {
   "codemirror_mode": {
    "name": "ipython",
    "version": 3
   },
   "file_extension": ".py",
   "mimetype": "text/x-python",
   "name": "python",
   "nbconvert_exporter": "python",
   "pygments_lexer": "ipython3",
   "version": "3.8.10"
  }
 },
 "nbformat": 4,
 "nbformat_minor": 5
}
